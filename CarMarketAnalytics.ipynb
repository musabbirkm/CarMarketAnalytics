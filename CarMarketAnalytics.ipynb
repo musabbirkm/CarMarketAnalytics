{
 "cells": [
  {
   "cell_type": "code",
   "execution_count": 19,
   "id": "539a6703-7a55-403c-aa38-eeb624c6e938",
   "metadata": {},
   "outputs": [],
   "source": [
    "import pandas as pd\n",
    "from sklearn.model_selection import train_test_split\n",
    "from sklearn.preprocessing import StandardScaler\n",
    "from sklearn.metrics import mean_squared_error, mean_absolute_error, r2_score\n",
    "\n",
    "# Regression models\n",
    "from sklearn.linear_model import LinearRegression\n",
    "from sklearn.tree import DecisionTreeRegressor\n",
    "from sklearn.ensemble import RandomForestRegressor, GradientBoostingRegressor\n",
    "from sklearn.svm import SVR\n",
    "\n",
    "# Hyperparameter tuning\n",
    "from sklearn.model_selection import GridSearchCV"
   ]
  },
  {
   "cell_type": "code",
   "execution_count": 20,
   "id": "a9eb038c-cbd8-4dc6-9e9a-f4c10d8e9168",
   "metadata": {},
   "outputs": [],
   "source": [
    "# Load the dataset\n",
    "df = pd.read_csv(\"CarPrice_Assignment.csv\")"
   ]
  },
  {
   "cell_type": "code",
   "execution_count": 21,
   "id": "9342dab9-077e-4e97-8925-fac02ca7943c",
   "metadata": {},
   "outputs": [
    {
     "name": "stdout",
     "output_type": "stream",
     "text": [
      "Dataset Shape: (205, 26)\n",
      "\n",
      "First 5 rows:\n",
      "   car_ID  symboling                   CarName fueltype aspiration doornumber  \\\n",
      "0       1          3        alfa-romero giulia      gas        std        two   \n",
      "1       2          3       alfa-romero stelvio      gas        std        two   \n",
      "2       3          1  alfa-romero Quadrifoglio      gas        std        two   \n",
      "3       4          2               audi 100 ls      gas        std       four   \n",
      "4       5          2                audi 100ls      gas        std       four   \n",
      "\n",
      "       carbody drivewheel enginelocation  wheelbase  ...  enginesize  \\\n",
      "0  convertible        rwd          front       88.6  ...         130   \n",
      "1  convertible        rwd          front       88.6  ...         130   \n",
      "2    hatchback        rwd          front       94.5  ...         152   \n",
      "3        sedan        fwd          front       99.8  ...         109   \n",
      "4        sedan        4wd          front       99.4  ...         136   \n",
      "\n",
      "   fuelsystem  boreratio  stroke compressionratio horsepower  peakrpm citympg  \\\n",
      "0        mpfi       3.47    2.68              9.0        111     5000      21   \n",
      "1        mpfi       3.47    2.68              9.0        111     5000      21   \n",
      "2        mpfi       2.68    3.47              9.0        154     5000      19   \n",
      "3        mpfi       3.19    3.40             10.0        102     5500      24   \n",
      "4        mpfi       3.19    3.40              8.0        115     5500      18   \n",
      "\n",
      "   highwaympg    price  \n",
      "0          27  13495.0  \n",
      "1          27  16500.0  \n",
      "2          26  16500.0  \n",
      "3          30  13950.0  \n",
      "4          22  17450.0  \n",
      "\n",
      "[5 rows x 26 columns]\n",
      "\n",
      "Missing Values: 0\n"
     ]
    }
   ],
   "source": [
    "# Display dataset information\n",
    "print(\"Dataset Shape:\", df.shape)\n",
    "print(\"\\nFirst 5 rows:\")\n",
    "print(df.head())\n",
    "print(\"\\nMissing Values:\", df.isnull().sum().sum())"
   ]
  },
  {
   "cell_type": "code",
   "execution_count": 22,
   "id": "0750e80f-4b61-4c94-9184-ae54cb8c5aaa",
   "metadata": {},
   "outputs": [],
   "source": [
    "# Preprocessing\n",
    "# Drop irrelevant columns (e.g., car_ID, CarName)\n",
    "df = df.drop([\"car_ID\", \"CarName\"], axis=1)\n",
    "\n",
    "# Convert categorical variables to dummy variables\n",
    "df = pd.get_dummies(df, drop_first=True)"
   ]
  },
  {
   "cell_type": "code",
   "execution_count": 23,
   "id": "50f1dc89-61c7-48a8-8415-9afa837b8259",
   "metadata": {},
   "outputs": [],
   "source": [
    "# Split into features (X) and target (y)\n",
    "X = df.drop(\"price\", axis=1)\n",
    "y = df[\"price\"]\n",
    "\n",
    "# Split into training and testing sets\n",
    "X_train, X_test, y_train, y_test = train_test_split(X, y, test_size=0.2, random_state=42)\n"
   ]
  },
  {
   "cell_type": "code",
   "execution_count": 24,
   "id": "cd78745e-3ee6-44b0-855b-7b7659361979",
   "metadata": {},
   "outputs": [],
   "source": [
    "# Feature scaling\n",
    "scaler = StandardScaler()\n",
    "X_train_scaled = scaler.fit_transform(X_train)\n",
    "X_test_scaled = scaler.transform(X_test)"
   ]
  },
  {
   "cell_type": "code",
   "execution_count": 25,
   "id": "0508e8cd-4e21-460b-baf9-0c3cc606e911",
   "metadata": {},
   "outputs": [],
   "source": [
    "# Initialize models\n",
    "models = {\n",
    "    \"Linear Regression\": LinearRegression(),\n",
    "    \"Decision Tree\": DecisionTreeRegressor(random_state=42),\n",
    "    \"Random Forest\": RandomForestRegressor(random_state=42),\n",
    "    \"Gradient Boosting\": GradientBoostingRegressor(random_state=42),\n",
    "    \"Support Vector Regressor\": SVR()\n",
    "}\n"
   ]
  },
  {
   "cell_type": "code",
   "execution_count": 26,
   "id": "4c123569-ff43-4bb8-bb81-d91af24d33f1",
   "metadata": {},
   "outputs": [
    {
     "name": "stdout",
     "output_type": "stream",
     "text": [
      "\n",
      "Linear Regression Results:\n",
      "MSE: 8482008.4844\n",
      "MAE: 2089.3827\n",
      "R²: 0.8926\n",
      "\n",
      "Decision Tree Results:\n",
      "MSE: 8300272.3561\n",
      "MAE: 1886.3211\n",
      "R²: 0.8949\n",
      "\n",
      "Random Forest Results:\n",
      "MSE: 3313969.6413\n",
      "MAE: 1259.7577\n",
      "R²: 0.9580\n",
      "\n",
      "Gradient Boosting Results:\n",
      "MSE: 5900138.7630\n",
      "MAE: 1676.0276\n",
      "R²: 0.9253\n",
      "\n",
      "Support Vector Regressor Results:\n",
      "MSE: 86829819.9835\n",
      "MAE: 5697.6577\n",
      "R²: -0.0999\n"
     ]
    }
   ],
   "source": [
    "# Train and evaluate models\n",
    "results = []\n",
    "\n",
    "for name, model in models.items():\n",
    "    # Train the model\n",
    "    model.fit(X_train_scaled, y_train)\n",
    "\n",
    "    # Make predictions\n",
    "    y_pred = model.predict(X_test_scaled)\n",
    "\n",
    "    # Calculate evaluation metrics\n",
    "    mse = mean_squared_error(y_test, y_pred)\n",
    "    mae = mean_absolute_error(y_test, y_pred)\n",
    "    r2 = r2_score(y_test, y_pred)\n",
    "\n",
    "    # Store results\n",
    "    results.append({\n",
    "        \"Model\": name,\n",
    "        \"MSE\": mse,\n",
    "        \"MAE\": mae,\n",
    "        \"R²\": r2\n",
    "    })\n",
    "\n",
    "    # Print results\n",
    "    print(f\"\\n{name} Results:\")\n",
    "    print(f\"MSE: {mse:.4f}\")\n",
    "    print(f\"MAE: {mae:.4f}\")\n",
    "    print(f\"R²: {r2:.4f}\")"
   ]
  },
  {
   "cell_type": "code",
   "execution_count": 27,
   "id": "9e390325-581d-4bba-b0a2-98edb83059e0",
   "metadata": {},
   "outputs": [
    {
     "name": "stdout",
     "output_type": "stream",
     "text": [
      "\n",
      "Model Comparison:\n",
      "                   Model          MSE         MAE        R²\n",
      "       Linear Regression 8.482008e+06 2089.382729  0.892557\n",
      "           Decision Tree 8.300272e+06 1886.321146  0.894859\n",
      "           Random Forest 3.313970e+06 1259.757695  0.958021\n",
      "       Gradient Boosting 5.900139e+06 1676.027625  0.925262\n",
      "Support Vector Regressor 8.682982e+07 5697.657697 -0.099891\n"
     ]
    }
   ],
   "source": [
    "# Convert results to DataFrame\n",
    "results_df = pd.DataFrame(results)\n",
    "print(\"\\nModel Comparison:\")\n",
    "print(results_df.to_string(index=False))"
   ]
  },
  {
   "cell_type": "code",
   "execution_count": 28,
   "id": "d8fa07bf-a792-4e65-8a1b-8c197d8fbd4c",
   "metadata": {},
   "outputs": [
    {
     "name": "stdout",
     "output_type": "stream",
     "text": [
      "\n",
      "Best Model:\n",
      "Model: Random Forest, R²: 0.9580\n",
      "\n",
      "Worst Model:\n",
      "Model: Support Vector Regressor, R²: -0.0999\n"
     ]
    }
   ],
   "source": [
    "# Identify best and worst models\n",
    "best_model = results_df.loc[results_df['R²'].idxmax()]\n",
    "worst_model = results_df.loc[results_df['R²'].idxmin()]\n",
    "\n",
    "print(\"\\nBest Model:\")\n",
    "print(f\"Model: {best_model['Model']}, R²: {best_model['R²']:.4f}\")\n",
    "\n",
    "print(\"\\nWorst Model:\")\n",
    "print(f\"Model: {worst_model['Model']}, R²: {worst_model['R²']:.4f}\")"
   ]
  },
  {
   "cell_type": "code",
   "execution_count": 29,
   "id": "0af30e02-2f49-4bab-ab5b-b1376a0790d3",
   "metadata": {},
   "outputs": [
    {
     "name": "stdout",
     "output_type": "stream",
     "text": [
      "\n",
      "Top 10 Important Features:\n",
      "       Feature  Importance\n",
      "6   enginesize    0.544441\n",
      "5   curbweight    0.299421\n",
      "13  highwaympg    0.045694\n",
      "10  horsepower    0.035511\n",
      "3     carwidth    0.013533\n",
      "2    carlength    0.009019\n",
      "1    wheelbase    0.007541\n",
      "11     peakrpm    0.006795\n",
      "12     citympg    0.006493\n",
      "8       stroke    0.004913\n"
     ]
    }
   ],
   "source": [
    "# Feature Importance Analysis (for tree-based models)\n",
    "rf = RandomForestRegressor(random_state=42)\n",
    "rf.fit(X_train_scaled, y_train)\n",
    "\n",
    "feature_importance = pd.DataFrame({\n",
    "    \"Feature\": X.columns,\n",
    "    \"Importance\": rf.feature_importances_\n",
    "}).sort_values(by=\"Importance\", ascending=False)\n",
    "\n",
    "print(\"\\nTop 10 Important Features:\")\n",
    "print(feature_importance.head(10))"
   ]
  },
  {
   "cell_type": "code",
   "execution_count": 30,
   "id": "0ea344eb-1fb4-484a-ac4c-97d1e79c1d6a",
   "metadata": {},
   "outputs": [
    {
     "name": "stdout",
     "output_type": "stream",
     "text": [
      "\n",
      "Best Parameters for Gradient Boosting:\n",
      "{'learning_rate': 0.2, 'max_depth': 3, 'n_estimators': 50}\n"
     ]
    }
   ],
   "source": [
    "# Hyperparameter Tuning (Gradient Boosting as an example)\n",
    "param_grid = {\n",
    "    \"n_estimators\": [50, 100, 200],\n",
    "    \"learning_rate\": [0.01, 0.1, 0.2],\n",
    "    \"max_depth\": [3, 5, 7]\n",
    "}\n",
    "\n",
    "gb = GradientBoostingRegressor(random_state=42)\n",
    "grid_search = GridSearchCV(gb, param_grid, cv=3, scoring=\"r2\")\n",
    "grid_search.fit(X_train_scaled, y_train)\n",
    "\n",
    "print(\"\\nBest Parameters for Gradient Boosting:\")\n",
    "print(grid_search.best_params_)"
   ]
  },
  {
   "cell_type": "code",
   "execution_count": 31,
   "id": "7650003e-3014-4b01-928b-7130cc862d99",
   "metadata": {},
   "outputs": [
    {
     "name": "stdout",
     "output_type": "stream",
     "text": [
      "\n",
      "Tuned Gradient Boosting Results:\n",
      "MSE: 6086847.6572\n",
      "MAE: 1698.2912\n",
      "R²: 0.9229\n"
     ]
    }
   ],
   "source": [
    "# Evaluate tuned model\n",
    "y_pred_tuned = grid_search.predict(X_test_scaled)\n",
    "mse_tuned = mean_squared_error(y_test, y_pred_tuned)\n",
    "mae_tuned = mean_absolute_error(y_test, y_pred_tuned)\n",
    "r2_tuned = r2_score(y_test, y_pred_tuned)\n",
    "\n",
    "print(\"\\nTuned Gradient Boosting Results:\")\n",
    "print(f\"MSE: {mse_tuned:.4f}\")\n",
    "print(f\"MAE: {mae_tuned:.4f}\")\n",
    "print(f\"R²: {r2_tuned:.4f}\")"
   ]
  },
  {
   "cell_type": "code",
   "execution_count": null,
   "id": "12a06ff1-d435-4c62-8f20-17a4dc0fc295",
   "metadata": {},
   "outputs": [],
   "source": []
  }
 ],
 "metadata": {
  "kernelspec": {
   "display_name": "Python 3.9",
   "language": "python",
   "name": "python39"
  },
  "language_info": {
   "codemirror_mode": {
    "name": "ipython",
    "version": 3
   },
   "file_extension": ".py",
   "mimetype": "text/x-python",
   "name": "python",
   "nbconvert_exporter": "python",
   "pygments_lexer": "ipython3",
   "version": "3.9.13"
  }
 },
 "nbformat": 4,
 "nbformat_minor": 5
}
